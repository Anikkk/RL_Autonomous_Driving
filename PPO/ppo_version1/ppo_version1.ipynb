{
 "cells": [
  {
   "cell_type": "markdown",
   "id": "dddf7e02",
   "metadata": {},
   "source": [
    "### PPO (image obs based CNN network)\n",
    "To generalize the learning process, we train the agent on **100 diverse scenarios** from the MetaDrive environment. These scenarios are specified using the `num_scenarios=100` setting in the environment configuration, ensuring the agent experiences a wide variety of traffic and road layouts during training. This enhances the robustness and generalization ability of the policy.\n",
    "\n",
    "We structure the training using:\n",
    "- `EPISODES_PER_BATCH = 32`: Each epoch collects trajectories from 32 complete episodes.\n",
    "- `TOTAL_EPOCHS = 100`: We train for 100 epochs, where each epoch involves collecting a new batch of experience and performing PPO updates.\n",
    "- `PPO_STEPS = 10`: The collected batch is used to update the policy and value networks multiple times (10 steps per epoch), increasing sample efficiency.\n",
    "\n",
    "The training loop follows the standard PPO structure:\n",
    "1. Collect trajectories for `EPISODES_PER_BATCH` episodes using the current policy.\n",
    "2. Compute rewards-to-go and GAE-based advantages.\n",
    "3. Normalize the advantages for stability.\n",
    "4. Perform `PPO_STEPS` rounds of policy updates using the clipped surrogate loss.\n",
    "5. Save model checkpoints and optionally record a video of the agent’s behavior.\n",
    "\n",
    "For evaluation, we randomly select **5 fixed scenarios** from the test set (using specific `start_seed` values). This allows us to assess the generalization capability of the trained policy under consistent conditions and compare performance across models.\n",
    "\n",
    "Overall, this training setup balances exploration diversity, computational efficiency, and reproducibility."
   ]
  },
  {
   "cell_type": "code",
   "execution_count": 1,
   "id": "db7271bb",
   "metadata": {},
   "outputs": [],
   "source": [
    "import os\n",
    "import numpy as np\n",
    "import torch\n",
    "import torch.nn as nn\n",
    "import torch.nn.functional as F\n",
    "import torch.optim as optim\n",
    "import imageio\n",
    "from torch.distributions import Normal\n",
    "import matplotlib.pyplot as plt\n",
    "from metadrive.envs.top_down_env import TopDownMetaDrive"
   ]
  },
  {
   "cell_type": "code",
   "execution_count": null,
   "id": "ad4badf0",
   "metadata": {},
   "outputs": [],
   "source": [
    "# Training hyperparameters\n",
    "SEED = 42\n",
    "TOTAL_EPOCHS = 100\n",
    "EPISODES_PER_BATCH = 32\n",
    "GAMMA = 0.9\n",
    "GAE_LAMBDA = 0.95\n",
    "CLIP_EPS = 0.07\n",
    "PPO_STEPS = 10\n",
    "BATCH_SIZE = 64\n",
    "ACTOR_LR = 5e-5\n",
    "CRITIC_LR = 1e-3\n",
    "ENTROPY_COEF = 0.01\n",
    "SAVE_EVERY = 10\n",
    "RENDER_EVERY = 20\n",
    "VIDEO_DIR = \"ppo_checkpoints/videos\"\n",
    "MODEL_DIR = \"ppo_checkpoints/models\"\n",
    "\n",
    "np.random.seed(SEED)\n",
    "torch.manual_seed(SEED)\n",
    "\n",
    "# Convert image observations to tensors (B, C, H, W)\n",
    "def preprocess_obs(obs_list, device):\n",
    "    return torch.tensor(np.stack(obs_list), dtype=torch.float32, device=device).permute(0, 3, 1, 2)\n",
    "\n",
    "# Generalized Advantage Estimation (GAE): \n",
    "def compute_gae(rewards, values, gamma=GAMMA, lam=GAE_LAMBDA):\n",
    "    advantages = []\n",
    "    gae = 0\n",
    "    values = values + [0.0]\n",
    "    for t in reversed(range(len(rewards))):\n",
    "        delta = rewards[t] + gamma * values[t + 1] - values[t]\n",
    "        gae = delta + gamma * lam * gae\n",
    "        advantages.insert(0, gae)\n",
    "    returns = [adv + v for adv, v in zip(advantages, values[:-1])]\n",
    "    return advantages, returns\n",
    "\n",
    "# Log-Prob Correction after Tanh Squash: \n",
    "def squash_log_prob(dist, raw_action, tanh_action):\n",
    "    log_prob = dist.log_prob(raw_action).sum(dim=-1)\n",
    "    log_prob -= torch.log(1 - tanh_action.pow(2) + 1e-6).sum(dim=-1)\n",
    "    return log_prob\n"
   ]
  },
  {
   "cell_type": "code",
   "execution_count": null,
   "id": "759e99ab",
   "metadata": {},
   "outputs": [],
   "source": [
    "# Record agent’s behavior on current map using the current policy.\n",
    "# This allows visual inspection of learning progress and qualitative debugging.\n",
    "@torch.no_grad()\n",
    "def record_video(actor, env, device, epoch, max_frames=1000):\n",
    "    os.makedirs(VIDEO_DIR, exist_ok=True)\n",
    "    frames = []\n",
    "    obs, _ = env.reset()\n",
    "    for _ in range(max_frames):\n",
    "        obs_tensor = preprocess_obs([obs], device)\n",
    "        mu, std = actor(obs_tensor)\n",
    "        dist = Normal(mu, std)\n",
    "        raw_action = dist.mean\n",
    "        action = torch.tanh(raw_action).squeeze(0).cpu().numpy()\n",
    "        img = env.render(mode=\"topdown\")\n",
    "        if img is not None:\n",
    "            frames.append(img)\n",
    "        obs, reward, terminated, truncated, _ = env.step(action)\n",
    "        if terminated or truncated:\n",
    "            break\n",
    "    path = os.path.join(VIDEO_DIR, f\"video_epoch_{epoch}.mp4\")\n",
    "    imageio.mimsave(path, frames, fps=15)\n",
    "    print(f\"[Video] Saved to {path}\")\n",
    "    "
   ]
  },
  {
   "cell_type": "code",
   "execution_count": 4,
   "id": "5b5b6b25",
   "metadata": {},
   "outputs": [],
   "source": [
    "# Actor network\n",
    "class Actor(nn.Module):\n",
    "    def __init__(self):\n",
    "        super().__init__()\n",
    "        self.conv = nn.Sequential(\n",
    "            nn.Conv2d(5, 16, kernel_size=8, stride=4),\n",
    "            nn.ReLU(),\n",
    "            nn.Conv2d(16, 32, kernel_size=4, stride=2),\n",
    "            nn.ReLU(),\n",
    "        )\n",
    "        self.fc = nn.Sequential(\n",
    "            nn.Linear(32 * 9 * 9, 256),\n",
    "            nn.ReLU(),\n",
    "        )\n",
    "        self.mu = nn.Linear(256, 2)\n",
    "        self.log_std = nn.Parameter(torch.full((2,), -0.5))\n",
    "\n",
    "    def forward(self, obs_tensor):\n",
    "        x = self.conv(obs_tensor)\n",
    "        x = torch.flatten(x, 1)\n",
    "        x = self.fc(x)\n",
    "        mu = self.mu(x)\n",
    "        std = self.log_std.exp().expand_as(mu)\n",
    "        return mu, std\n",
    "\n",
    "# Critic network\n",
    "class Critic(nn.Module):\n",
    "    def __init__(self):\n",
    "        super().__init__()\n",
    "        self.conv = nn.Sequential(\n",
    "            nn.Conv2d(5, 16, kernel_size=8, stride=4),\n",
    "            nn.ReLU(),\n",
    "            nn.Conv2d(16, 32, kernel_size=4, stride=2),\n",
    "            nn.ReLU(),\n",
    "        )\n",
    "        self.fc = nn.Sequential(\n",
    "            nn.Linear(32 * 9 * 9, 256),\n",
    "            nn.ReLU(),\n",
    "            nn.Linear(256, 1)\n",
    "        )\n",
    "\n",
    "    def forward(self, x):\n",
    "        x = self.conv(x)\n",
    "        x = torch.flatten(x, 1)\n",
    "        return self.fc(x).squeeze(-1)"
   ]
  },
  {
   "cell_type": "code",
   "execution_count": null,
   "id": "04f2547a",
   "metadata": {},
   "outputs": [],
   "source": [
    "def train(env):\n",
    "    device = torch.device(\"cuda\" if torch.cuda.is_available() else \"cpu\")\n",
    "    actor = Actor().to(device)\n",
    "    critic = Critic().to(device)\n",
    "\n",
    "    actor_optim = optim.Adam(actor.parameters(), lr=ACTOR_LR)\n",
    "    critic_optim = optim.Adam(critic.parameters(), lr=CRITIC_LR)\n",
    "\n",
    "    all_returns, actor_losses, critic_losses = [], [], []\n",
    "\n",
    "    for epoch in range(1, TOTAL_EPOCHS + 1):\n",
    "        batch_obs, batch_actions, batch_log_probs = [], [], []\n",
    "        batch_advantages, batch_returns = [], []\n",
    "        returns = []\n",
    "\n",
    "        # Collect episode trajectories\n",
    "        for _ in range(EPISODES_PER_BATCH):\n",
    "            obs_list, action_list, logp_list, reward_list, value_list = [], [], [], [], []\n",
    "\n",
    "            obs, _ = env.reset()\n",
    "            done = False\n",
    "            while not done:\n",
    "                obs_tensor = preprocess_obs([obs], device)\n",
    "                mu, std = actor(obs_tensor)\n",
    "                dist = Normal(mu, std)\n",
    "                raw_action = dist.rsample()\n",
    "                action = torch.tanh(raw_action)\n",
    "                log_prob = squash_log_prob(dist, raw_action, action)\n",
    "                value = critic(obs_tensor)\n",
    "\n",
    "                obs_list.append(obs)\n",
    "                action_list.append(action[0].detach().cpu().numpy())\n",
    "                logp_list.append(log_prob.item())\n",
    "                reward_list.append(0.0)\n",
    "                value_list.append(value.item())\n",
    "\n",
    "                obs, reward, terminated, truncated, _ = env.step(action[0].detach().cpu().numpy())\n",
    "                reward_list[-1] = reward\n",
    "                done = terminated or truncated\n",
    "\n",
    "            advantages, rtg = compute_gae(reward_list, value_list)\n",
    "            batch_obs += obs_list\n",
    "            batch_actions += action_list\n",
    "            batch_log_probs += logp_list\n",
    "            batch_advantages += advantages\n",
    "            batch_returns += rtg\n",
    "            returns.append(sum(reward_list))\n",
    "\n",
    "        # Convert to Tensors\n",
    "        obs_tensor = preprocess_obs(batch_obs, device)\n",
    "        act_tensor = torch.tensor(batch_actions, dtype=torch.float32, device=device)\n",
    "        logp_old = torch.tensor(batch_log_probs, dtype=torch.float32, device=device)\n",
    "        adv_tensor = torch.tensor(batch_advantages, dtype=torch.float32, device=device)\n",
    "        rtg_tensor = torch.tensor(batch_returns, dtype=torch.float32, device=device)\n",
    "        # Advantage Normalization\n",
    "        adv_tensor = (adv_tensor - adv_tensor.mean()) / (adv_tensor.std() + 1e-8)\n",
    "\n",
    "        # Update\n",
    "        for _ in range(PPO_STEPS):\n",
    "            mu, std = actor(obs_tensor)\n",
    "            dist = Normal(mu, std)\n",
    "            # Update with Tanh Inversion\n",
    "            raw_action = torch.atanh(torch.clamp(act_tensor, -0.999, 0.999))\n",
    "            logp = squash_log_prob(dist, raw_action, act_tensor)\n",
    "            entropy = dist.entropy().sum(axis=-1).mean()\n",
    "\n",
    "            ratio = torch.exp(logp - logp_old)\n",
    "            surr1 = ratio * adv_tensor\n",
    "            surr2 = torch.clamp(ratio, 1 - CLIP_EPS, 1 + CLIP_EPS) * adv_tensor\n",
    "            actor_loss = -torch.min(surr1, surr2).mean()\n",
    "\n",
    "            value = critic(obs_tensor)\n",
    "            critic_loss = F.mse_loss(value, rtg_tensor)\n",
    "\n",
    "            actor_optim.zero_grad()\n",
    "            actor_loss.backward()\n",
    "            actor_optim.step()\n",
    "\n",
    "            critic_optim.zero_grad()\n",
    "            critic_loss.backward()\n",
    "            critic_optim.step()\n",
    "\n",
    "        actor_losses.append(actor_loss.item())\n",
    "        critic_losses.append(critic_loss.item())\n",
    "        all_returns.append(np.mean(returns))\n",
    "\n",
    "        print(f\"Epoch {epoch}: Return={np.mean(returns):.2f}, Actor Loss={actor_loss.item():.4f}, Critic Loss={critic_loss.item():.4f}\")\n",
    "\n",
    "        # Save model\n",
    "        if epoch % SAVE_EVERY == 0:\n",
    "            os.makedirs(MODEL_DIR, exist_ok=True)\n",
    "            torch.save(actor.state_dict(), os.path.join(MODEL_DIR, f\"actor_epoch_{epoch}.pth\"))\n",
    "            torch.save(critic.state_dict(), os.path.join(MODEL_DIR, f\"critic_epoch_{epoch}.pth\"))\n",
    "\n",
    "        # Record video\n",
    "        if epoch % RENDER_EVERY == 0:\n",
    "            record_video(actor, env, device, epoch)\n",
    "\n",
    "    env.close()\n",
    "\n",
    "    # Plot\n",
    "    plt.plot(all_returns)\n",
    "    plt.xlabel(\"Epoch\")\n",
    "    plt.ylabel(\"Average Return\")\n",
    "    plt.title(\"Average Return per Epoch\")\n",
    "    plt.grid()\n",
    "    plt.show()\n",
    "\n",
    "    plt.plot(actor_losses, label=\"Actor Loss\")\n",
    "    plt.plot(critic_losses, label=\"Critic Loss\")\n",
    "    plt.xlabel(\"Epoch\")\n",
    "    plt.ylabel(\"Loss\")\n",
    "    plt.title(\"Actor & Critic Loss\")\n",
    "    plt.legend()\n",
    "    plt.grid()\n",
    "    plt.show()\n"
   ]
  },
  {
   "cell_type": "code",
   "execution_count": null,
   "id": "c1edb95a",
   "metadata": {},
   "outputs": [],
   "source": [
    "# Evaluate trained policies on predefined scenarios, generating gif for qualitative comparison.\n",
    "def test_fixed_scenarios(fixed_scenarios, model_path, gif_dir=\"ppo_tests_gifs\"):\n",
    "    os.makedirs(gif_dir, exist_ok=True)\n",
    "    device = torch.device(\"cuda\" if torch.cuda.is_available() else \"cpu\")\n",
    "\n",
    "    actor = Actor().to(device)\n",
    "    actor.load_state_dict(torch.load(model_path))\n",
    "    actor.eval()\n",
    "    print(f\"[INFO] Loaded actor from {model_path}\")\n",
    "\n",
    "    for scenario_id in fixed_scenarios:\n",
    "        env = TopDownMetaDrive(dict(\n",
    "            use_render=True,\n",
    "            manual_control=False,\n",
    "            horizon=500,\n",
    "            num_scenarios=1,\n",
    "            start_seed=scenario_id\n",
    "        ))\n",
    "\n",
    "        obs, _ = env.reset()\n",
    "        rewards = []\n",
    "        frames = []\n",
    "\n",
    "        while True:\n",
    "            frame = env.render(mode=\"topdown\")\n",
    "            if frame is not None:\n",
    "                frames.append(frame)\n",
    "\n",
    "            obs_tensor = preprocess_obs([obs], device)\n",
    "            mu, std = actor(obs_tensor)\n",
    "            dist = Normal(mu, std)\n",
    "            action = torch.tanh(dist.mean)[0].detach().cpu().numpy()\n",
    "\n",
    "            obs, reward, terminated, truncated, _ = env.step(action)\n",
    "            rewards.append(reward)\n",
    "            if terminated or truncated:\n",
    "                break\n",
    "\n",
    "\n",
    "        env.close()\n",
    "        gif_path = os.path.join(gif_dir, f\"scenario_{scenario_id}.gif\")\n",
    "        imageio.mimsave(gif_path, frames, fps=20)\n",
    "        print(f\"Saved GIF for scenario {scenario_id} (reward={sum(rewards):.2f}) to {gif_path}\")\n"
   ]
  },
  {
   "cell_type": "code",
   "execution_count": null,
   "id": "d0419f35",
   "metadata": {},
   "outputs": [
    {
     "name": "stderr",
     "output_type": "stream",
     "text": [
      "\u001b[38;20m[INFO] Environment: TopDownMetaDrive\u001b[0m\n",
      "\u001b[38;20m[INFO] MetaDrive version: 0.4.3\u001b[0m\n",
      "\u001b[38;20m[INFO] Sensors: [lidar: Lidar(), side_detector: SideDetector(), lane_line_detector: LaneLineDetector()]\u001b[0m\n",
      "\u001b[38;20m[INFO] Render Mode: none\u001b[0m\n",
      "\u001b[38;20m[INFO] Horizon (Max steps per agent): 300\u001b[0m\n",
      "\u001b[38;20m[INFO] Assets version: 0.4.3\u001b[0m\n",
      "\u001b[38;20m[INFO] Known Pipes: CocoaGraphicsPipe\u001b[0m\n",
      "\u001b[38;20m[INFO] Start Scenario Index: 0, Num Scenarios : 100\u001b[0m\n",
      "/var/folders/4r/46cgs67x2jb3cbzcd8tf87l80000gn/T/ipykernel_65512/931647500.py:51: UserWarning: Creating a tensor from a list of numpy.ndarrays is extremely slow. Please consider converting the list to a single numpy.ndarray with numpy.array() before converting to a tensor. (Triggered internally at /Users/runner/work/pytorch/pytorch/pytorch/torch/csrc/utils/tensor_new.cpp:257.)\n",
      "  act_tensor = torch.tensor(batch_actions, dtype=torch.float32, device=device)\n"
     ]
    },
    {
     "name": "stdout",
     "output_type": "stream",
     "text": [
      "Epoch 1: Return=1.68, Actor Loss=-0.0129, Critic Loss=0.0041\n",
      "Epoch 2: Return=2.67, Actor Loss=-0.0152, Critic Loss=0.0046\n",
      "Epoch 3: Return=3.82, Actor Loss=-0.0136, Critic Loss=0.0069\n",
      "Epoch 4: Return=5.13, Actor Loss=-0.0086, Critic Loss=0.0218\n",
      "Epoch 5: Return=6.34, Actor Loss=-0.0055, Critic Loss=0.0571\n",
      "Epoch 6: Return=8.64, Actor Loss=-0.0048, Critic Loss=0.0796\n",
      "Epoch 7: Return=10.04, Actor Loss=-0.0047, Critic Loss=0.1379\n",
      "Epoch 8: Return=10.80, Actor Loss=-0.0023, Critic Loss=0.2873\n",
      "Epoch 9: Return=15.76, Actor Loss=-0.0036, Critic Loss=0.2222\n",
      "Epoch 10: Return=19.90, Actor Loss=-0.0031, Critic Loss=0.3389\n",
      "Epoch 11: Return=24.03, Actor Loss=-0.0032, Critic Loss=0.4702\n",
      "Epoch 12: Return=24.20, Actor Loss=-0.0029, Critic Loss=0.4568\n",
      "Epoch 13: Return=25.09, Actor Loss=-0.0034, Critic Loss=0.5814\n",
      "Epoch 14: Return=29.47, Actor Loss=-0.0036, Critic Loss=0.6001\n",
      "Epoch 15: Return=37.91, Actor Loss=-0.0032, Critic Loss=0.8325\n",
      "Epoch 16: Return=24.72, Actor Loss=-0.0038, Critic Loss=0.9204\n",
      "Epoch 17: Return=43.10, Actor Loss=-0.0040, Critic Loss=0.9877\n",
      "Epoch 18: Return=45.56, Actor Loss=-0.0047, Critic Loss=0.8463\n",
      "Epoch 19: Return=57.47, Actor Loss=-0.0034, Critic Loss=0.9958\n",
      "Epoch 20: Return=44.26, Actor Loss=-0.0038, Critic Loss=1.0903\n"
     ]
    },
    {
     "name": "stderr",
     "output_type": "stream",
     "text": [
      "2025-04-30 16:08:53.024 Python[65512:15333283] WARNING: Secure coding is not enabled for restorable state! Enable secure coding by implementing NSApplicationDelegate.applicationSupportsSecureRestorableState: and returning YES.\n"
     ]
    },
    {
     "name": "stdout",
     "output_type": "stream",
     "text": [
      "[Video] Saved to ppo_checkpoints/videos/video_epoch_20.mp4\n",
      "Epoch 21: Return=53.21, Actor Loss=-0.0033, Critic Loss=0.9674\n",
      "Epoch 22: Return=70.23, Actor Loss=-0.0031, Critic Loss=1.2152\n",
      "Epoch 23: Return=72.80, Actor Loss=-0.0032, Critic Loss=1.1168\n",
      "Epoch 24: Return=96.65, Actor Loss=-0.0023, Critic Loss=1.0525\n",
      "Epoch 25: Return=79.71, Actor Loss=-0.0022, Critic Loss=0.9468\n",
      "Epoch 26: Return=100.82, Actor Loss=-0.0025, Critic Loss=1.1835\n",
      "Epoch 27: Return=99.60, Actor Loss=-0.0027, Critic Loss=1.0246\n",
      "Epoch 28: Return=95.92, Actor Loss=-0.0020, Critic Loss=0.8489\n",
      "Epoch 29: Return=83.86, Actor Loss=-0.0028, Critic Loss=0.9721\n",
      "Epoch 30: Return=108.16, Actor Loss=-0.0018, Critic Loss=0.8485\n",
      "Epoch 31: Return=99.32, Actor Loss=-0.0026, Critic Loss=0.9789\n",
      "Epoch 32: Return=120.36, Actor Loss=-0.0022, Critic Loss=0.9211\n",
      "Epoch 33: Return=112.34, Actor Loss=-0.0022, Critic Loss=0.8595\n",
      "Epoch 34: Return=117.13, Actor Loss=-0.0016, Critic Loss=0.9824\n",
      "Epoch 35: Return=122.67, Actor Loss=-0.0024, Critic Loss=0.9582\n",
      "Epoch 36: Return=128.47, Actor Loss=-0.0015, Critic Loss=0.9989\n",
      "Epoch 37: Return=126.14, Actor Loss=-0.0018, Critic Loss=0.9178\n",
      "Epoch 38: Return=126.60, Actor Loss=-0.0027, Critic Loss=1.1537\n",
      "Epoch 39: Return=132.50, Actor Loss=-0.0025, Critic Loss=1.2766\n",
      "Epoch 40: Return=124.98, Actor Loss=-0.0020, Critic Loss=1.0509\n",
      "[Video] Saved to ppo_checkpoints/videos/video_epoch_40.mp4\n",
      "Epoch 41: Return=128.30, Actor Loss=-0.0026, Critic Loss=1.0521\n",
      "Epoch 42: Return=116.33, Actor Loss=-0.0018, Critic Loss=1.4368\n",
      "Epoch 43: Return=113.29, Actor Loss=-0.0018, Critic Loss=1.3776\n",
      "Epoch 44: Return=101.32, Actor Loss=-0.0034, Critic Loss=1.1267\n",
      "Epoch 45: Return=109.01, Actor Loss=-0.0023, Critic Loss=1.1831\n",
      "Epoch 46: Return=96.89, Actor Loss=-0.0025, Critic Loss=1.4638\n",
      "Epoch 47: Return=130.01, Actor Loss=-0.0019, Critic Loss=1.4983\n",
      "Epoch 48: Return=111.57, Actor Loss=-0.0022, Critic Loss=1.3762\n",
      "Epoch 49: Return=99.90, Actor Loss=-0.0020, Critic Loss=1.1415\n",
      "Epoch 50: Return=140.05, Actor Loss=-0.0024, Critic Loss=1.1468\n",
      "Epoch 51: Return=120.96, Actor Loss=-0.0025, Critic Loss=1.4190\n",
      "Epoch 52: Return=129.85, Actor Loss=-0.0023, Critic Loss=1.6280\n",
      "Epoch 53: Return=123.28, Actor Loss=-0.0029, Critic Loss=1.2595\n",
      "Epoch 54: Return=135.48, Actor Loss=-0.0022, Critic Loss=1.3632\n",
      "Epoch 55: Return=122.48, Actor Loss=-0.0023, Critic Loss=1.2489\n",
      "Epoch 56: Return=114.93, Actor Loss=-0.0017, Critic Loss=1.5777\n",
      "Epoch 57: Return=119.55, Actor Loss=-0.0020, Critic Loss=1.6032\n",
      "Epoch 58: Return=117.73, Actor Loss=-0.0020, Critic Loss=1.2143\n",
      "Epoch 59: Return=120.13, Actor Loss=-0.0028, Critic Loss=1.4760\n",
      "Epoch 60: Return=117.55, Actor Loss=-0.0022, Critic Loss=1.5010\n",
      "[Video] Saved to ppo_checkpoints/videos/video_epoch_60.mp4\n",
      "Epoch 61: Return=108.62, Actor Loss=-0.0030, Critic Loss=1.2336\n",
      "Epoch 62: Return=120.26, Actor Loss=-0.0017, Critic Loss=1.6046\n",
      "Epoch 63: Return=131.05, Actor Loss=-0.0023, Critic Loss=1.3332\n",
      "Epoch 64: Return=132.95, Actor Loss=-0.0019, Critic Loss=1.1931\n",
      "Epoch 65: Return=110.84, Actor Loss=-0.0018, Critic Loss=1.4411\n",
      "Epoch 66: Return=118.92, Actor Loss=-0.0016, Critic Loss=1.6539\n",
      "Epoch 67: Return=126.07, Actor Loss=-0.0020, Critic Loss=1.4073\n",
      "Epoch 68: Return=121.99, Actor Loss=-0.0018, Critic Loss=1.4005\n",
      "Epoch 69: Return=112.08, Actor Loss=-0.0019, Critic Loss=1.3369\n",
      "Epoch 70: Return=122.80, Actor Loss=-0.0012, Critic Loss=1.3026\n",
      "Epoch 71: Return=115.21, Actor Loss=-0.0015, Critic Loss=1.3384\n",
      "Epoch 72: Return=101.90, Actor Loss=-0.0021, Critic Loss=1.4407\n",
      "Epoch 73: Return=125.50, Actor Loss=-0.0024, Critic Loss=1.3448\n",
      "Epoch 74: Return=113.05, Actor Loss=-0.0024, Critic Loss=1.4174\n",
      "Epoch 75: Return=114.81, Actor Loss=-0.0027, Critic Loss=1.4536\n",
      "Epoch 76: Return=108.93, Actor Loss=-0.0020, Critic Loss=1.2732\n",
      "Epoch 77: Return=110.08, Actor Loss=-0.0027, Critic Loss=1.5534\n",
      "Epoch 78: Return=113.84, Actor Loss=-0.0024, Critic Loss=1.2427\n",
      "Epoch 79: Return=106.55, Actor Loss=-0.0023, Critic Loss=1.2530\n",
      "Epoch 80: Return=107.92, Actor Loss=-0.0030, Critic Loss=1.8044\n",
      "[Video] Saved to ppo_checkpoints/videos/video_epoch_80.mp4\n",
      "Epoch 81: Return=117.91, Actor Loss=-0.0022, Critic Loss=1.2137\n",
      "Epoch 82: Return=110.88, Actor Loss=-0.0028, Critic Loss=1.4669\n",
      "Epoch 83: Return=97.40, Actor Loss=-0.0025, Critic Loss=1.6432\n",
      "Epoch 84: Return=125.44, Actor Loss=-0.0022, Critic Loss=1.6647\n",
      "Epoch 85: Return=123.70, Actor Loss=-0.0021, Critic Loss=1.9243\n",
      "Epoch 86: Return=113.41, Actor Loss=-0.0022, Critic Loss=2.4061\n",
      "Epoch 87: Return=118.48, Actor Loss=-0.0025, Critic Loss=1.9439\n",
      "Epoch 88: Return=111.69, Actor Loss=-0.0017, Critic Loss=1.3620\n",
      "Epoch 89: Return=114.32, Actor Loss=-0.0028, Critic Loss=1.7220\n",
      "Epoch 90: Return=114.24, Actor Loss=-0.0028, Critic Loss=1.5084\n",
      "Epoch 91: Return=119.78, Actor Loss=-0.0021, Critic Loss=1.7032\n",
      "Epoch 92: Return=116.19, Actor Loss=-0.0016, Critic Loss=1.3296\n",
      "Epoch 93: Return=115.21, Actor Loss=-0.0026, Critic Loss=1.3497\n",
      "Epoch 94: Return=98.21, Actor Loss=-0.0022, Critic Loss=1.5041\n",
      "Epoch 95: Return=120.66, Actor Loss=-0.0020, Critic Loss=1.5144\n",
      "Epoch 96: Return=108.76, Actor Loss=-0.0026, Critic Loss=1.8468\n",
      "Epoch 97: Return=115.01, Actor Loss=-0.0018, Critic Loss=1.4315\n",
      "Epoch 98: Return=110.78, Actor Loss=-0.0021, Critic Loss=1.5081\n",
      "Epoch 99: Return=107.90, Actor Loss=-0.0026, Critic Loss=1.7721\n",
      "Epoch 100: Return=94.42, Actor Loss=-0.0023, Critic Loss=1.4006\n",
      "[Video] Saved to ppo_checkpoints/videos/video_epoch_100.mp4\n"
     ]
    },
    {
     "data": {
      "image/png": "[encoded data removed]",
      "text/plain": [
       "<Figure size 640x480 with 1 Axes>"
      ]
     },
     "metadata": {},
     "output_type": "display_data"
    },
    {
     "data": {
      "image/png": "[encoded data removed]",
      "text/plain": [
       "<Figure size 640x480 with 1 Axes>"
      ]
     },
     "metadata": {},
     "output_type": "display_data"
    },
    {
     "name": "stderr",
     "output_type": "stream",
     "text": [
      "\u001b[38;20m[INFO] Environment: TopDownMetaDrive\u001b[0m\n",
      "\u001b[38;20m[INFO] MetaDrive version: 0.4.3\u001b[0m\n",
      "\u001b[38;20m[INFO] Sensors: [lidar: Lidar(), side_detector: SideDetector(), lane_line_detector: LaneLineDetector(), main_camera: MainCamera(1200, 900), dashboard: DashBoard()]\u001b[0m\n",
      "\u001b[38;20m[INFO] Render Mode: onscreen\u001b[0m\n",
      "\u001b[38;20m[INFO] Horizon (Max steps per agent): 500\u001b[0m\n",
      "\u001b[38;20m[INFO] Assets version: 0.4.3\u001b[0m\n",
      "\u001b[38;20m[INFO] Known Pipes: CocoaGraphicsPipe\u001b[0m\n"
     ]
    },
    {
     "name": "stdout",
     "output_type": "stream",
     "text": [
      "[INFO] Loaded actor from ppo_checkpoints/models/actor_epoch_100.pth\n"
     ]
    },
    {
     "name": "stderr",
     "output_type": "stream",
     "text": [
      "\u001b[33;20m[WARNING] Since your screen is too small (1470, 956), we resize the window to (1147, 860). (engine_core.py:234)\u001b[0m\n",
      "\u001b[38;20m[INFO] Start Scenario Index: 0, Num Scenarios : 1\u001b[0m\n"
     ]
    },
    {
     "ename": "RuntimeError",
     "evalue": "Can't call numpy() on Tensor that requires grad. Use tensor.detach().numpy() instead.",
     "output_type": "error",
     "traceback": [
      "\u001b[0;31m---------------------------------------------------------------------------\u001b[0m",
      "\u001b[0;31mRuntimeError\u001b[0m                              Traceback (most recent call last)",
      "Cell \u001b[0;32mIn[7], line 9\u001b[0m\n\u001b[1;32m      7\u001b[0m train(env)\n\u001b[1;32m      8\u001b[0m fixed_scenarios \u001b[38;5;241m=\u001b[39m [\u001b[38;5;241m0\u001b[39m, \u001b[38;5;241m5\u001b[39m, \u001b[38;5;241m12\u001b[39m, \u001b[38;5;241m37\u001b[39m, \u001b[38;5;241m89\u001b[39m]\n\u001b[0;32m----> 9\u001b[0m \u001b[43mtest_fixed_scenarios\u001b[49m\u001b[43m(\u001b[49m\u001b[43mfixed_scenarios\u001b[49m\u001b[43m,\u001b[49m\u001b[43m \u001b[49m\u001b[43mmodel_path\u001b[49m\u001b[38;5;241;43m=\u001b[39;49m\u001b[38;5;124;43m\"\u001b[39;49m\u001b[38;5;124;43mppo_checkpoints/models/actor_epoch_100.pth\u001b[39;49m\u001b[38;5;124;43m\"\u001b[39;49m\u001b[43m)\u001b[49m    \n",
      "Cell \u001b[0;32mIn[6], line 30\u001b[0m, in \u001b[0;36mtest_fixed_scenarios\u001b[0;34m(fixed_scenarios, model_path, gif_dir)\u001b[0m\n\u001b[1;32m     28\u001b[0m mu, std \u001b[38;5;241m=\u001b[39m actor(obs_tensor)\n\u001b[1;32m     29\u001b[0m dist \u001b[38;5;241m=\u001b[39m Normal(mu, std)\n\u001b[0;32m---> 30\u001b[0m action \u001b[38;5;241m=\u001b[39m \u001b[43mtorch\u001b[49m\u001b[38;5;241;43m.\u001b[39;49m\u001b[43mtanh\u001b[49m\u001b[43m(\u001b[49m\u001b[43mdist\u001b[49m\u001b[38;5;241;43m.\u001b[39;49m\u001b[43mmean\u001b[49m\u001b[43m)\u001b[49m\u001b[43m[\u001b[49m\u001b[38;5;241;43m0\u001b[39;49m\u001b[43m]\u001b[49m\u001b[38;5;241;43m.\u001b[39;49m\u001b[43mcpu\u001b[49m\u001b[43m(\u001b[49m\u001b[43m)\u001b[49m\u001b[38;5;241;43m.\u001b[39;49m\u001b[43mnumpy\u001b[49m\u001b[43m(\u001b[49m\u001b[43m)\u001b[49m\n\u001b[1;32m     32\u001b[0m obs, reward, terminated, truncated, _ \u001b[38;5;241m=\u001b[39m env\u001b[38;5;241m.\u001b[39mstep(action)\n\u001b[1;32m     33\u001b[0m rewards\u001b[38;5;241m.\u001b[39mappend(reward)\n",
      "\u001b[0;31mRuntimeError\u001b[0m: Can't call numpy() on Tensor that requires grad. Use tensor.detach().numpy() instead."
     ]
    }
   ],
   "source": [
    "if __name__ == \"__main__\":\n",
    "    env = TopDownMetaDrive(dict(\n",
    "        use_render=False,\n",
    "        horizon=300,\n",
    "        num_scenarios=100\n",
    "    ))\n",
    "    train(env)\n",
    "    # env.close()\n",
    "    # fixed_scenarios = [0, 5, 12, 37, 89]\n",
    "    # test_fixed_scenarios(fixed_scenarios, model_path=\"ppo_checkpoints/models/actor_epoch_100.pth\")  \n"
   ]
  },
  {
   "cell_type": "code",
   "execution_count": null,
   "id": "7843c188",
   "metadata": {},
   "outputs": [
    {
     "name": "stderr",
     "output_type": "stream",
     "text": [
      "\u001b[38;20m[INFO] Environment: TopDownMetaDrive\u001b[0m\n",
      "\u001b[38;20m[INFO] MetaDrive version: 0.4.3\u001b[0m\n",
      "\u001b[38;20m[INFO] Sensors: [lidar: Lidar(), side_detector: SideDetector(), lane_line_detector: LaneLineDetector(), main_camera: MainCamera(1200, 900), dashboard: DashBoard()]\u001b[0m\n",
      "\u001b[38;20m[INFO] Render Mode: onscreen\u001b[0m\n",
      "\u001b[38;20m[INFO] Horizon (Max steps per agent): 500\u001b[0m\n"
     ]
    },
    {
     "name": "stdout",
     "output_type": "stream",
     "text": [
      "[INFO] Loaded actor from ppo_checkpoints/models/actor_epoch_100.pth\n"
     ]
    },
    {
     "name": "stderr",
     "output_type": "stream",
     "text": [
      "\u001b[38;20m[INFO] Assets version: 0.4.3\u001b[0m\n",
      "\u001b[38;20m[INFO] Known Pipes: CocoaGraphicsPipe\u001b[0m\n",
      "\u001b[33;20m[WARNING] Since your screen is too small (1470, 956), we resize the window to (1147, 860). (engine_core.py:234)\u001b[0m\n",
      "\u001b[38;20m[INFO] Start Scenario Index: 0, Num Scenarios : 1\u001b[0m\n",
      "\u001b[38;20m[INFO] Environment: TopDownMetaDrive\u001b[0m\n",
      "\u001b[38;20m[INFO] MetaDrive version: 0.4.3\u001b[0m\n",
      "\u001b[38;20m[INFO] Sensors: [lidar: Lidar(), side_detector: SideDetector(), lane_line_detector: LaneLineDetector(), main_camera: MainCamera(1200, 900), dashboard: DashBoard()]\u001b[0m\n",
      "\u001b[38;20m[INFO] Render Mode: onscreen\u001b[0m\n",
      "\u001b[38;20m[INFO] Horizon (Max steps per agent): 500\u001b[0m\n",
      "\u001b[38;20m[INFO] Assets version: 0.4.3\u001b[0m\n"
     ]
    },
    {
     "name": "stdout",
     "output_type": "stream",
     "text": [
      "Saved GIF for scenario 0 (reward=105.04) to ppo_tests_gifs/scenario_0.gif\n"
     ]
    },
    {
     "name": "stderr",
     "output_type": "stream",
     "text": [
      "\u001b[38;20m[INFO] Known Pipes: CocoaGraphicsPipe\u001b[0m\n",
      "\u001b[33;20m[WARNING] Since your screen is too small (1470, 956), we resize the window to (1147, 860). (engine_core.py:234)\u001b[0m\n",
      "\u001b[38;20m[INFO] Start Scenario Index: 5, Num Scenarios : 1\u001b[0m\n",
      "\u001b[38;20m[INFO] Environment: TopDownMetaDrive\u001b[0m\n",
      "\u001b[38;20m[INFO] MetaDrive version: 0.4.3\u001b[0m\n",
      "\u001b[38;20m[INFO] Sensors: [lidar: Lidar(), side_detector: SideDetector(), lane_line_detector: LaneLineDetector(), main_camera: MainCamera(1200, 900), dashboard: DashBoard()]\u001b[0m\n",
      "\u001b[38;20m[INFO] Render Mode: onscreen\u001b[0m\n",
      "\u001b[38;20m[INFO] Horizon (Max steps per agent): 500\u001b[0m\n",
      "\u001b[38;20m[INFO] Assets version: 0.4.3\u001b[0m\n",
      "\u001b[38;20m[INFO] Known Pipes: CocoaGraphicsPipe\u001b[0m\n"
     ]
    },
    {
     "name": "stdout",
     "output_type": "stream",
     "text": [
      "Saved GIF for scenario 5 (reward=70.25) to ppo_tests_gifs/scenario_5.gif\n"
     ]
    },
    {
     "name": "stderr",
     "output_type": "stream",
     "text": [
      "\u001b[33;20m[WARNING] Since your screen is too small (1470, 956), we resize the window to (1147, 860). (engine_core.py:234)\u001b[0m\n",
      "\u001b[38;20m[INFO] Start Scenario Index: 12, Num Scenarios : 1\u001b[0m\n",
      "\u001b[38;20m[INFO] Environment: TopDownMetaDrive\u001b[0m\n",
      "\u001b[38;20m[INFO] MetaDrive version: 0.4.3\u001b[0m\n",
      "\u001b[38;20m[INFO] Sensors: [lidar: Lidar(), side_detector: SideDetector(), lane_line_detector: LaneLineDetector(), main_camera: MainCamera(1200, 900), dashboard: DashBoard()]\u001b[0m\n",
      "\u001b[38;20m[INFO] Render Mode: onscreen\u001b[0m\n",
      "\u001b[38;20m[INFO] Horizon (Max steps per agent): 500\u001b[0m\n",
      "\u001b[38;20m[INFO] Assets version: 0.4.3\u001b[0m\n"
     ]
    },
    {
     "name": "stdout",
     "output_type": "stream",
     "text": [
      "Saved GIF for scenario 12 (reward=71.24) to ppo_tests_gifs/scenario_12.gif\n"
     ]
    },
    {
     "name": "stderr",
     "output_type": "stream",
     "text": [
      "\u001b[38;20m[INFO] Known Pipes: CocoaGraphicsPipe\u001b[0m\n",
      "\u001b[33;20m[WARNING] Since your screen is too small (1470, 956), we resize the window to (1147, 860). (engine_core.py:234)\u001b[0m\n",
      "\u001b[38;20m[INFO] Start Scenario Index: 37, Num Scenarios : 1\u001b[0m\n",
      "\u001b[38;20m[INFO] Environment: TopDownMetaDrive\u001b[0m\n",
      "\u001b[38;20m[INFO] MetaDrive version: 0.4.3\u001b[0m\n",
      "\u001b[38;20m[INFO] Sensors: [lidar: Lidar(), side_detector: SideDetector(), lane_line_detector: LaneLineDetector(), main_camera: MainCamera(1200, 900), dashboard: DashBoard()]\u001b[0m\n",
      "\u001b[38;20m[INFO] Render Mode: onscreen\u001b[0m\n",
      "\u001b[38;20m[INFO] Horizon (Max steps per agent): 500\u001b[0m\n",
      "\u001b[38;20m[INFO] Assets version: 0.4.3\u001b[0m\n",
      "\u001b[38;20m[INFO] Known Pipes: CocoaGraphicsPipe\u001b[0m\n",
      "\u001b[33;20m[WARNING] Since your screen is too small (1470, 956), we resize the window to (1147, 860). (engine_core.py:234)\u001b[0m\n"
     ]
    },
    {
     "name": "stdout",
     "output_type": "stream",
     "text": [
      "Saved GIF for scenario 37 (reward=76.51) to ppo_tests_gifs/scenario_37.gif\n"
     ]
    },
    {
     "name": "stderr",
     "output_type": "stream",
     "text": [
      "\u001b[38;20m[INFO] Start Scenario Index: 89, Num Scenarios : 1\u001b[0m\n"
     ]
    },
    {
     "name": "stdout",
     "output_type": "stream",
     "text": [
      "Saved GIF for scenario 89 (reward=143.11) to ppo_tests_gifs/scenario_89.gif\n"
     ]
    },
    {
     "ename": "",
     "evalue": "",
     "output_type": "error",
     "traceback": [
      "\u001b[1;31mThe Kernel crashed while executing code in the current cell or a previous cell. \n",
      "\u001b[1;31mPlease review the code in the cell(s) to identify a possible cause of the failure. \n",
      "\u001b[1;31mClick <a href='https://aka.ms/vscodeJupyterKernelCrash'>here</a> for more info. \n",
      "\u001b[1;31mView Jupyter <a href='command:jupyter.viewOutput'>log</a> for further details."
     ]
    }
   ],
   "source": [
    "    env.close()\n",
    "    fixed_scenarios = [0, 5, 12, 37, 89]\n",
    "    test_fixed_scenarios(fixed_scenarios, model_path=\"ppo_checkpoints/models/actor_epoch_100.pth\")    "
   ]
  }
 ],
 "metadata": {
  "kernelspec": {
   "display_name": "metadrive-env",
   "language": "python",
   "name": "python3"
  },
  "language_info": {
   "codemirror_mode": {
    "name": "ipython",
    "version": 3
   },
   "file_extension": ".py",
   "mimetype": "text/x-python",
   "name": "python",
   "nbconvert_exporter": "python",
   "pygments_lexer": "ipython3",
   "version": "3.9.13"
  }
 },
 "nbformat": 4,
 "nbformat_minor": 5
}
